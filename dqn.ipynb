{
 "cells": [
  {
   "cell_type": "code",
   "execution_count": 1,
   "metadata": {},
   "outputs": [
    {
     "name": "stderr",
     "output_type": "stream",
     "text": [
      "/Users/khela/miniconda3/envs/dqn/lib/python3.10/site-packages/tqdm/auto.py:22: TqdmWarning: IProgress not found. Please update jupyter and ipywidgets. See https://ipywidgets.readthedocs.io/en/stable/user_install.html\n",
      "  from .autonotebook import tqdm as notebook_tqdm\n"
     ]
    }
   ],
   "source": [
    "import torch\n",
    "import torch.nn as nn\n",
    "from torch import optim \n",
    "from torch.distributions import Categorical\n",
    "import gym\n",
    "from tqdm import tqdm\n",
    "from collections import deque\n",
    "from random import sample\n",
    "import numpy as np\n",
    "import matplotlib.pyplot as plt"
   ]
  },
  {
   "cell_type": "code",
   "execution_count": 2,
   "metadata": {},
   "outputs": [],
   "source": [
    "def set_all_seeds(seed):\n",
    "    np.random.seed(seed)\n",
    "    torch.manual_seed(seed)\n",
    "    torch.cuda.manual_seed(seed)\n",
    "    torch.backends.cudnn.deterministic = True\n",
    "    \n",
    "device = \"cuda\" if torch.cuda.is_available() else \"cpu\"\n",
    "set_all_seeds(42)"
   ]
  },
  {
   "cell_type": "code",
   "execution_count": 3,
   "metadata": {},
   "outputs": [],
   "source": [
    "env = gym.make('LunarLander-v2')\n",
    "obs_space = env.observation_space.shape[0]\n",
    "act_space = env.action_space.n"
   ]
  },
  {
   "cell_type": "code",
   "execution_count": 4,
   "metadata": {},
   "outputs": [],
   "source": [
    "MAX_STEPS = 300000\n",
    "BUFFER_WARMUP = 500\n",
    "GAMMA = 0.99\n",
    "LEARNING_RATE = 1e-3\n",
    "EPSILON_EXP = 0.998\n",
    "TARGET_UPDATE = 200\n",
    "BATCH_SIZE = 32"
   ]
  },
  {
   "cell_type": "code",
   "execution_count": 5,
   "metadata": {},
   "outputs": [],
   "source": [
    "class ReplayBuffer():\n",
    "    def __init__(self, length, device):\n",
    "        self.length = length\n",
    "        self.device = device\n",
    "        self.observations = deque(maxlen=length)\n",
    "        self.actions = deque(maxlen=length)\n",
    "        self.rewards = deque(maxlen=length)\n",
    "        self.dones = deque(maxlen=length)\n",
    "        self.next_observations = deque(maxlen=length)\n",
    "        \n",
    "    def add_experience(self, obs, reward, action, done, next_obs):\n",
    "        self.observations.append(torch.from_numpy(obs).to(self.device))\n",
    "        self.actions.append(torch.tensor(action).to(device))\n",
    "        self.rewards.append(torch.tensor(reward).to(device))\n",
    "        self.dones.append(torch.tensor(done).to(device))\n",
    "        self.next_observations.append(torch.from_numpy(next_obs).to(self.device))\n",
    "        \n",
    "    def sample_experience(self, size):\n",
    "        indicies = sample(range(len(self.observations)), size)\n",
    "        sampled_observations = torch.stack([self.observations[i] for i in indicies])\n",
    "        sampled_actions = torch.stack([self.actions[i] for i in indicies])\n",
    "        sampled_rewards = torch.stack([self.rewards[i] for i in indicies])\n",
    "        sampled_dones = torch.stack([self.dones[i] for i in indicies])\n",
    "        sampled_next_observations = torch.stack([self.next_observations[i] for i in indicies])\n",
    "        return sampled_observations, sampled_actions, sampled_rewards, sampled_dones, sampled_next_observations, "
   ]
  },
  {
   "cell_type": "code",
   "execution_count": 6,
   "metadata": {},
   "outputs": [],
   "source": [
    "class DQN(nn.Module):\n",
    "    def __init__(self, obs_space, act_space, device):\n",
    "        super(DQN, self).__init__()\n",
    "        self.obs_space = obs_space\n",
    "        self.act_space = act_space\n",
    "        self.device = device\n",
    "        \n",
    "        self.backbone = nn.Sequential(\n",
    "            nn.Linear(self.obs_space, 64),\n",
    "            nn.ReLU(),\n",
    "            nn.Linear(64, 64),\n",
    "            nn.ReLU(),\n",
    "            nn.Linear(64, self.act_space),\n",
    "        ).to(self.device)\n",
    "        \n",
    "\n",
    "    def forward(self, obs):\n",
    "        obs = obs if torch.is_tensor(obs) else torch.from_numpy(obs).to(self.device)\n",
    "        obs = obs.view(-1, self.obs_space)\n",
    "        logit = self.backbone(obs)\n",
    "        return logit\n",
    "    \n",
    "    @torch.no_grad()\n",
    "    def get_action(self, obs, epsilon):\n",
    "        if torch.rand(1) < epsilon:\n",
    "            return torch.randint(0, self.act_space, (1,))\n",
    "        else:\n",
    "            obs = torch.from_numpy(obs).view(-1, self.obs_space).to(self.device)\n",
    "            qs = self.forward(obs)\n",
    "            return torch.argmax(qs, dim=1)"
   ]
  },
  {
   "cell_type": "code",
   "execution_count": 7,
   "metadata": {},
   "outputs": [],
   "source": [
    "dqn = DQN(obs_space, act_space, device)\n",
    "target_dqn = DQN(obs_space, act_space, device)\n",
    "target_dqn.load_state_dict(dqn.state_dict())\n",
    "\n",
    "buffer = ReplayBuffer(100000, device)\n",
    "\n",
    "loss_fn = nn.MSELoss()\n",
    "optimizer = optim.Adam(params=dqn.parameters(), lr=LEARNING_RATE)\n",
    "exp_epsilons = [max(0.01, 1 * EPSILON_EXP**i) for i in range(MAX_STEPS)]"
   ]
  },
  {
   "cell_type": "code",
   "execution_count": 8,
   "metadata": {},
   "outputs": [
    {
     "name": "stderr",
     "output_type": "stream",
     "text": [
      "100%|██████████| 300000/300000 [20:06<00:00, 248.64it/s]\n"
     ]
    }
   ],
   "source": [
    "obs = env.reset()\n",
    "done = False\n",
    "reward = 0\n",
    "ep_rews = []\n",
    "losses = []\n",
    "ep_rew = 0\n",
    "for step in tqdm(range(MAX_STEPS)):\n",
    "    action = dqn.get_action(obs, exp_epsilons[step]).item()\n",
    "    next_obs, reward, done, _ = env.step(action)\n",
    "    buffer.add_experience(obs, reward, action, done, next_obs)\n",
    "    obs = next_obs\n",
    "        \n",
    "    ep_rew += reward\n",
    "    \n",
    "    if done:\n",
    "        obs = env.reset()\n",
    "        done = False\n",
    "        reward = 0\n",
    "        ep_rews.append(ep_rew)\n",
    "        ep_rew = 0\n",
    "      \n",
    "    if step >= BUFFER_WARMUP:\n",
    "        _observations, _actions, _rewards, _dones, _next_observations = buffer.sample_experience(BATCH_SIZE)\n",
    "        y = _dones * _rewards + ((1 - _dones.float()) * (_rewards+ GAMMA * torch.max(target_dqn.forward(_next_observations), dim=1).values))\n",
    "        y_ = torch.gather(dqn.forward(_observations), 1, _actions.view(-1, 1)).view(-1)\n",
    "        loss = loss_fn(y_, y.float().detach())\n",
    "        optimizer.zero_grad()\n",
    "        loss.backward()\n",
    "        optimizer.step()\n",
    "        losses.append(loss.item())\n",
    "        \n",
    "        \n",
    "    if step % TARGET_UPDATE == 0:\n",
    "        target_dqn.load_state_dict(dqn.state_dict())\n",
    "        \n",
    "    if step % 50000 == 0:\n",
    "        torch.save(dqn.state_dict(), 'models/dqn_state_model' + str(step) + '.pt')\n",
    "torch.save(dqn.state_dict(), 'models/dqn_state_model_trained.pt')"
   ]
  },
  {
   "cell_type": "code",
   "execution_count": 9,
   "metadata": {},
   "outputs": [
    {
     "data": {
      "text/plain": [
       "[<matplotlib.lines.Line2D at 0x7febe1f26bc0>]"
      ]
     },
     "execution_count": 9,
     "metadata": {},
     "output_type": "execute_result"
    },
    {
     "data": {
      "image/png": "[encoded data removed]",
      "text/plain": [
       "<Figure size 432x288 with 1 Axes>"
      ]
     },
     "metadata": {
      "needs_background": "light"
     },
     "output_type": "display_data"
    }
   ],
   "source": [
    "plt.plot(ep_rews)\n",
    "plt.plot(np.convolve(np.array(ep_rews), np.ones(10), 'same') / 10)"
   ]
  },
  {
   "cell_type": "code",
   "execution_count": 10,
   "metadata": {},
   "outputs": [
    {
     "data": {
      "text/plain": [
       "[<matplotlib.lines.Line2D at 0x7febd63a4040>]"
      ]
     },
     "execution_count": 10,
     "metadata": {},
     "output_type": "execute_result"
    },
    {
     "data": {
      "image/png": "[encoded data removed]",
      "text/plain": [
       "<Figure size 432x288 with 1 Axes>"
      ]
     },
     "metadata": {
      "needs_background": "light"
     },
     "output_type": "display_data"
    }
   ],
   "source": [
    "plt.plot(losses)"
   ]
  },
  {
   "cell_type": "code",
   "execution_count": null,
   "metadata": {},
   "outputs": [],
   "source": []
  }
 ],
 "metadata": {
  "interpreter": {
   "hash": "c8903d211dc3a0e3b3bc229ae581d2495efec1abfddef2f154c1708b5f5f8ff0"
  },
  "kernelspec": {
   "display_name": "Python 3.10.0 ('dqn')",
   "language": "python",
   "name": "python3"
  },
  "language_info": {
   "codemirror_mode": {
    "name": "ipython",
    "version": 3
   },
   "file_extension": ".py",
   "mimetype": "text/x-python",
   "name": "python",
   "nbconvert_exporter": "python",
   "pygments_lexer": "ipython3",
   "version": "3.10.0"
  },
  "orig_nbformat": 4
 },
 "nbformat": 4,
 "nbformat_minor": 2
}
