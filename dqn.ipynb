{
 "cells": [
  {
   "cell_type": "code",
   "execution_count": 89,
   "metadata": {},
   "outputs": [],
   "source": [
    "import torch\n",
    "import torch.nn as nn\n",
    "from torch.distributions import Categorical\n",
    "import gym\n",
    "import tqdm\n",
    "from collections import deque\n",
    "from random import sample\n",
    "import numpy as np\n",
    "import matplotlib.pyplot as plt"
   ]
  },
  {
   "cell_type": "code",
   "execution_count": 90,
   "metadata": {},
   "outputs": [],
   "source": [
    "device = \"cuda\" if torch.cuda.is_available() else \"cpu\""
   ]
  },
  {
   "cell_type": "code",
   "execution_count": 91,
   "metadata": {},
   "outputs": [],
   "source": [
    "env = gym.make('LunarLander-v2')\n",
    "obs_space = env.observation_space.shape[0]\n",
    "act_space = env.action_space.n"
   ]
  },
  {
   "cell_type": "code",
   "execution_count": 92,
   "metadata": {},
   "outputs": [],
   "source": [
    "MAX_STEPS = 1000\n",
    "EPSILON_EXP = 0.99\n",
    "EPSILON_LIN = 0.01"
   ]
  },
  {
   "cell_type": "code",
   "execution_count": 93,
   "metadata": {},
   "outputs": [
    {
     "data": {
      "text/plain": [
       "[<matplotlib.lines.Line2D at 0x7fb9fbf30430>]"
      ]
     },
     "execution_count": 93,
     "metadata": {},
     "output_type": "execute_result"
    },
    {
     "data": {
      "image/png": "[encoded data removed]",
      "text/plain": [
       "<Figure size 432x288 with 1 Axes>"
      ]
     },
     "metadata": {
      "needs_background": "light"
     },
     "output_type": "display_data"
    }
   ],
   "source": [
    "exp_epsilons = [max(0.1, 1 * EPSILON_EXP**i) for i in range(MAX_STEPS)]\n",
    "lin_epsilons = [max(0.1, 1 - EPSILON_LIN * i) for i in range(MAX_STEPS)]\n",
    "    \n",
    "plt.plot(lin_epsilons)\n",
    "plt.plot(exp_epsilons)"
   ]
  },
  {
   "cell_type": "code",
   "execution_count": 96,
   "metadata": {},
   "outputs": [
    {
     "data": {
      "text/plain": [
       "[24, 44, 29, 49, 15, 0, 36, 45, 21, 9]"
      ]
     },
     "execution_count": 96,
     "metadata": {},
     "output_type": "execute_result"
    }
   ],
   "source": [
    "a = deque(maxlen=100)\n",
    "for i in range(50):\n",
    "    a.append(i)\n",
    "\n",
    "indicies = sample(range(len(a)), 10)\n",
    "[a[i] for i in indicies]"
   ]
  },
  {
   "cell_type": "code",
   "execution_count": 123,
   "metadata": {},
   "outputs": [],
   "source": [
    "class ReplayBuffer():\n",
    "    def __init__(self, length, device):\n",
    "        self.length = length\n",
    "        self.device = device\n",
    "        self.observations = deque(maxlen=length)\n",
    "        self.actions = deque(maxlen=length)\n",
    "        self.rewards = deque(maxlen=length)\n",
    "        self.dones = deque(maxlen=length)\n",
    "        self.next_observations = deque(maxlen=length)\n",
    "        self.next_actions = deque(maxlen=length)\n",
    "        \n",
    "    def add_experience(self, obs, reward, action, done, next_obs, next_action):\n",
    "        self.observations.append(torch.from_numpy(obs).to(self.device))\n",
    "        self.actions.append(torch.tensor(action).to(device))\n",
    "        self.rewards.append(torch.tensor(reward).to(device))\n",
    "        self.dones.append(torch.tensor(done).to(device))\n",
    "        self.next_observations.append(torch.from_numpy(next_obs).to(self.device))\n",
    "        self.next_actions.append(torch.tensor(next_action).to(device))\n",
    "        \n",
    "    def sample_experience(self, size):\n",
    "        indicies = sample(range(len(self.observations)), size)\n",
    "        sampled_observations = torch.stack([self.observations[i] for i in indicies])\n",
    "        sampled_actions = torch.stack([self.actions[i] for i in indicies])\n",
    "        sampled_rewards = torch.stack([self.rewards[i] for i in indicies])\n",
    "        sampled_dones = torch.stack([self.dones[i] for i in indicies])\n",
    "        sampled_next_observations = torch.stack([self.next_observations[i] for i in indicies])\n",
    "        sampled_next_actions = torch.stack([self.next_actions[i] for i in indicies])\n",
    "        return sampled_observations, sampled_actions, sampled_rewards, sampled_dones, sampled_next_observations, sampled_next_actions"
   ]
  },
  {
   "cell_type": "code",
   "execution_count": 124,
   "metadata": {},
   "outputs": [],
   "source": [
    "class DQN(nn.Module):\n",
    "    def __init__(self, obs_space, act_space, device):\n",
    "        super(DQN, self).__init__()\n",
    "        self.obs_space = obs_space\n",
    "        self.act_space = act_space\n",
    "        self.device = device\n",
    "        \n",
    "        self.backbone = nn.Sequential(\n",
    "            nn.Linear(self.obs_space, 16),\n",
    "            nn.ReLU(),\n",
    "            nn.Linear(16, 32),\n",
    "            nn.ReLU(),\n",
    "            nn.Linear(32, self.act_space),\n",
    "        ).to(self.device)\n",
    "        \n",
    "\n",
    "    def forward(self, x):\n",
    "        x = torch.from_numpy(x).to(self.device)\n",
    "        logits = self.backbone(x)\n",
    "        return logits\n",
    "    \n",
    "    def get_action(self, obs, epsilon):\n",
    "        if np.random.rand() < epsilon:\n",
    "            return np.random.randint(self.act_space)\n",
    "        else:\n",
    "            logits = self.forward(obs)\n",
    "            dist = Categorical(logits=logits)\n",
    "            return dist.sample().item()\n",
    "            \n",
    "            "
   ]
  },
  {
   "cell_type": "code",
   "execution_count": 125,
   "metadata": {},
   "outputs": [],
   "source": [
    "dqn = DQN(obs_space, act_space, device)\n",
    "buffer = ReplayBuffer(1000000, device)"
   ]
  },
  {
   "cell_type": "code",
   "execution_count": 132,
   "metadata": {},
   "outputs": [],
   "source": [
    "obs = env.reset()\n",
    "action = dqn.get_action(obs, exp_epsilons[0])\n",
    "done = False\n",
    "reward = 0\n",
    "for step in range(MAX_STEPS):\n",
    "    next_obs, reward, done, _ = env.step(action)\n",
    "    next_action = dqn.get_action(next_obs, exp_epsilons[step])\n",
    "    buffer.add_experience(obs, reward, action, done, next_obs, next_action)\n",
    "    obs = next_obs\n",
    "    action = next_action\n",
    "    if done:\n",
    "        obs = env.reset()\n",
    "        done = False\n",
    "        reward = 0\n",
    "        "
   ]
  },
  {
   "cell_type": "code",
   "execution_count": 133,
   "metadata": {},
   "outputs": [],
   "source": [
    "a, b, c, d, e, f = buffer.sample_experience(10)"
   ]
  },
  {
   "cell_type": "code",
   "execution_count": 134,
   "metadata": {},
   "outputs": [
    {
     "name": "stdout",
     "output_type": "stream",
     "text": [
      "torch.Size([10, 8]) torch.Size([10]) torch.Size([10]) torch.Size([10]) torch.Size([10, 8]) torch.Size([10])\n"
     ]
    }
   ],
   "source": [
    "print(a.shape, b.shape, c.shape, d.shape, e.shape, f.shape)"
   ]
  },
  {
   "cell_type": "code",
   "execution_count": null,
   "metadata": {},
   "outputs": [],
   "source": []
  }
 ],
 "metadata": {
  "interpreter": {
   "hash": "c8903d211dc3a0e3b3bc229ae581d2495efec1abfddef2f154c1708b5f5f8ff0"
  },
  "kernelspec": {
   "display_name": "Python 3.10.0 ('dqn')",
   "language": "python",
   "name": "python3"
  },
  "language_info": {
   "codemirror_mode": {
    "name": "ipython",
    "version": 3
   },
   "file_extension": ".py",
   "mimetype": "text/x-python",
   "name": "python",
   "nbconvert_exporter": "python",
   "pygments_lexer": "ipython3",
   "version": "3.10.0"
  },
  "orig_nbformat": 4
 },
 "nbformat": 4,
 "nbformat_minor": 2
}
